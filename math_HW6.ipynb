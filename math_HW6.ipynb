{
 "cells": [
  {
   "cell_type": "markdown",
   "metadata": {},
   "source": [
    "### Задание\n",
    "\n",
    "При фиксированном seed=42 поразбирайтесь и поэкспериментируйте с параметрами алгоритма дифференциальной эволюции:\n",
    "strategy, popsize, tol, mutation, recombination и updating.\n",
    "\n",
    "Постройте графики количества итераций оптимизации функции ackley от значения параметра.\n",
    "\n",
    "#### Допзадание\n",
    "\n",
    "Найти множество параметров (strategy=..., ..., updating=...), которые требуют минимального количества итераций."
   ]
  },
  {
   "cell_type": "code",
   "execution_count": 202,
   "metadata": {
    "collapsed": true
   },
   "outputs": [],
   "source": [
    "import numpy as np\n",
    "from scipy.optimize import differential_evolution"
   ]
  },
  {
   "cell_type": "code",
   "execution_count": 203,
   "metadata": {},
   "outputs": [
    {
     "data": {
      "text/plain": [
       "     fun: 4.440892098500626e-16\n",
       " message: 'Optimization terminated successfully.'\n",
       "    nfev: 2793\n",
       "     nit: 90\n",
       " success: True\n",
       "       x: array([0., 0.])"
      ]
     },
     "execution_count": 203,
     "metadata": {},
     "output_type": "execute_result"
    }
   ],
   "source": [
    "def ackley(x):\n",
    "    arg1 = -0.2 * np.sqrt(0.5 * (x[0] ** 2 + x[1] ** 2))\n",
    "    arg2 = 0.5 * (np.cos(2. * np.pi * x[0]) + np.cos(2. * np.pi * x[1]))\n",
    "    return -20. * np.exp(arg1) - np.exp(arg2) + 20. + np.e\n",
    "\n",
    "bounds = [(-10, 10), (-10, 10)]\n",
    "result = differential_evolution(ackley, bounds, seed=42, maxiter = 100)\n",
    "result"
   ]
  },
  {
   "cell_type": "code",
   "execution_count": 239,
   "metadata": {},
   "outputs": [
    {
     "data": {
      "text/plain": [
       "     fun: 4.440892098500626e-16\n",
       " message: 'Optimization terminated successfully.'\n",
       "    nfev: 2793\n",
       "     nit: 90\n",
       " success: True\n",
       "       x: array([0., 0.])"
      ]
     },
     "execution_count": 239,
     "metadata": {},
     "output_type": "execute_result"
    }
   ],
   "source": [
    "# strategy: 'best1bin', 'best1exp', 'rand1exp', 'best2bin' etc\n",
    "\n",
    "result = differential_evolution(ackley, bounds, seed=42, maxiter = 100, strategy = 'best1bin')\n",
    "result"
   ]
  },
  {
   "cell_type": "code",
   "execution_count": 254,
   "metadata": {},
   "outputs": [
    {
     "data": {
      "text/plain": [
       "     fun: 2.5799275570299085\n",
       "     jac: array([-1.42108547e-06, -1.06581410e-06])\n",
       " message: 'Optimization terminated successfully.'\n",
       "    nfev: 103\n",
       "     nit: 7\n",
       " success: True\n",
       "       x: array([-2.86743508e-08,  9.52166523e-01])"
      ]
     },
     "execution_count": 254,
     "metadata": {},
     "output_type": "execute_result"
    }
   ],
   "source": [
    "result = differential_evolution(ackley, bounds, seed=42, maxiter = 100, strategy = 'best1bin', popsize = 1)\n",
    "result\n",
    "# nit ниже всего при popsize 1 и 2, а дальше начинает увеличиваться "
   ]
  },
  {
   "cell_type": "code",
   "execution_count": 262,
   "metadata": {},
   "outputs": [
    {
     "data": {
      "text/plain": [
       "     fun: 1.4482961052664223e-08\n",
       "     jac: array([ 1.78217014, -0.06563532])\n",
       " message: 'Optimization terminated successfully.'\n",
       "    nfev: 198\n",
       "     nit: 5\n",
       " success: True\n",
       "       x: array([ 2.11467798e-10, -5.11613193e-09])"
      ]
     },
     "execution_count": 262,
     "metadata": {},
     "output_type": "execute_result"
    }
   ],
   "source": [
    "result = differential_evolution(ackley, bounds, seed=42, maxiter = 100, popsize = 1, tol = 0.1)\n",
    "result"
   ]
  },
  {
   "cell_type": "code",
   "execution_count": 264,
   "metadata": {},
   "outputs": [
    {
     "data": {
      "text/plain": [
       "     fun: 3.5744518772578115\n",
       "     jac: array([ 1.42108547e-06, -3.19744231e-06])\n",
       " message: 'Optimization terminated successfully.'\n",
       "    nfev: 77\n",
       "     nit: 9\n",
       " success: True\n",
       "       x: array([-0.96847764,  0.96847759])"
      ]
     },
     "execution_count": 264,
     "metadata": {},
     "output_type": "execute_result"
    }
   ],
   "source": [
    "result = differential_evolution(ackley, bounds, seed=42, maxiter = 100, popsize = 1, tol = 0.1, mutation = 1)\n",
    "result"
   ]
  },
  {
   "cell_type": "code",
   "execution_count": 266,
   "metadata": {},
   "outputs": [
    {
     "data": {
      "text/plain": [
       "     fun: 3.5744518772578115\n",
       "     jac: array([ 1.42108547e-06, -3.19744231e-06])\n",
       " message: 'Optimization terminated successfully.'\n",
       "    nfev: 77\n",
       "     nit: 9\n",
       " success: True\n",
       "       x: array([-0.96847764,  0.96847759])"
      ]
     },
     "execution_count": 266,
     "metadata": {},
     "output_type": "execute_result"
    }
   ],
   "source": [
    "result = differential_evolution(ackley, bounds, seed=42, maxiter = 100, popsize = 1, tol = 0.1, \n",
    "                                mutation = 1, recombination =0.4)\n",
    "result"
   ]
  },
  {
   "cell_type": "code",
   "execution_count": 267,
   "metadata": {},
   "outputs": [
    {
     "data": {
      "text/plain": [
       "     fun: 2.579927557029873\n",
       "     jac: array([3.55271368e-07, 0.00000000e+00])\n",
       " message: 'Optimization terminated successfully.'\n",
       "    nfev: 75\n",
       "     nit: 8\n",
       " success: True\n",
       "       x: array([-3.61492834e-09,  9.52166540e-01])"
      ]
     },
     "execution_count": 267,
     "metadata": {},
     "output_type": "execute_result"
    }
   ],
   "source": [
    "result = differential_evolution(ackley, bounds, seed=42, maxiter = 100, popsize = 1, tol = 0.1, \n",
    "                                mutation = 1, recombination =0.8, updating = 'immediate' )\n",
    "result"
   ]
  },
  {
   "cell_type": "code",
   "execution_count": 257,
   "metadata": {},
   "outputs": [
    {
     "name": "stdout",
     "output_type": "stream",
     "text": [
      "1 [2.35521932e-08 9.52166524e-01]\n",
      "2 [ 0.11246781 -0.58573783]\n",
      "3 [ 2.26066960e-09 -1.85826376e-09]\n",
      "4 [-2.62560563e-09 -4.31745709e-09]\n",
      "5 [-0.10762443  0.05681589]\n",
      "6 [-0.10762443  0.05681589]\n",
      "7 [ 0.10756774 -0.03752302]\n",
      "8 [-0.07084284 -0.03829208]\n",
      "9 [-0.04442853 -0.03752302]\n",
      "10 [-4.68011705e-09 -3.37908951e-10]\n",
      "11 [-1.72368040e-09  2.28719454e-09]\n",
      "12 [-1.72368040e-09  2.28719454e-09]\n",
      "13 [-5.00612550e-09 -5.02412591e-09]\n",
      "14 [ 0.00401279 -0.00139683]\n",
      "15 [-7.82500589e-10  6.32835643e-10]\n",
      "16 [-0.00087586 -0.00049431]\n",
      "17 [-0.00087586 -0.00049431]\n",
      "18 [0.00072909 0.00012037]\n",
      "19 [-0.00063319 -0.00025297]\n",
      "20 [-0.00063319 -0.00025297]\n",
      "21 [-4.66887325e-09 -3.45729337e-09]\n",
      "22 [-5.01354519e-09 -5.36930856e-09]\n",
      "23 [-1.35368341e-05 -1.58547602e-04]\n",
      "24 [-1.35368341e-05 -1.58547602e-04]\n",
      "25 [-4.84079338e-09 -4.64404038e-09]\n",
      "26 [-4.84079338e-09 -4.64404038e-09]\n",
      "27 [-1.95446926e-10 -5.00907555e-09]\n",
      "28 [ 9.81658199e-06 -2.18867409e-06]\n",
      "29 [-4.78680365e-09 -4.96703366e-09]\n",
      "30 [7.97019209e-06 4.64563825e-07]\n",
      "31 [7.97019209e-06 4.64563825e-07]\n",
      "32 [ 1.98839104e-06 -5.81041388e-07]\n",
      "33 [ 1.98839104e-06 -5.81041388e-07]\n",
      "34 [-5.17678053e-09 -2.07099955e-09]\n",
      "35 [-5.17678053e-09 -2.07099955e-09]\n",
      "36 [-6.50721166e-08  2.70266090e-07]\n",
      "37 [ 8.03315126e-08 -6.51603549e-09]\n",
      "38 [ 8.03315126e-08 -6.51603549e-09]\n",
      "39 [ 8.03315126e-08 -6.51603549e-09]\n",
      "40 [ 2.75641554e-08 -1.10064369e-08]\n",
      "41 [ 2.75641554e-08 -1.10064369e-08]\n",
      "42 [-5.06048003e-09 -3.54735726e-09]\n",
      "43 [-5.06048003e-09 -3.54735726e-09]\n",
      "44 [-4.07902544e-09 -4.45598118e-09]\n",
      "45 [-3.58215235e-09 -3.49305918e-09]\n",
      "46 [ 6.96158174e-10 -2.07646977e-09]\n",
      "47 [ 6.96158174e-10 -2.07646977e-09]\n",
      "48 [-6.67985667e-10 -1.60629510e-09]\n",
      "49 [-6.67985667e-10 -1.60629510e-09]\n",
      "50 [-8.79020190e-10 -1.27768907e-10]\n",
      "51 [-1.10765841e-10 -9.00457486e-11]\n",
      "52 [-1.10765841e-10 -9.00457486e-11]\n",
      "53 [-1.10765841e-10 -9.00457486e-11]\n",
      "54 [ 9.8077102e-12 -6.6879835e-11]\n",
      "55 [ 9.8077102e-12 -6.6879835e-11]\n",
      "56 [ 9.8077102e-12 -6.6879835e-11]\n",
      "57 [ 1.53677071e-11 -1.80588877e-11]\n",
      "58 [1.53677071e-11 3.64153152e-12]\n",
      "59 [1.53677071e-11 3.64153152e-12]\n",
      "60 [1.53677071e-11 3.64153152e-12]\n",
      "61 [1.53677071e-11 3.64153152e-12]\n",
      "62 [1.53677071e-11 3.64153152e-12]\n",
      "63 [-4.09672296e-12  7.07878201e-12]\n",
      "64 [-1.37667655e-13 -1.19348975e-12]\n",
      "65 [-1.37667655e-13 -1.19348975e-12]\n",
      "66 [-4.14113188e-13 -6.30606678e-13]\n",
      "67 [-4.14113188e-13 -6.30606678e-13]\n",
      "68 [-4.14113188e-13 -6.30606678e-13]\n",
      "69 [-1.46549439e-13  2.73114864e-13]\n",
      "70 [-1.46549439e-13  2.73114864e-13]\n",
      "71 [8.88178420e-15 1.99840144e-14]\n",
      "72 [8.88178420e-15 1.99840144e-14]\n",
      "73 [8.88178420e-15 1.99840144e-14]\n",
      "74 [8.88178420e-15 1.99840144e-14]\n",
      "75 [8.88178420e-15 1.99840144e-14]\n",
      "76 [8.88178420e-15 1.99840144e-14]\n",
      "77 [4.44089210e-15 1.33226763e-14]\n",
      "78 [2.22044605e-15 0.00000000e+00]\n",
      "79 [2.22044605e-15 0.00000000e+00]\n",
      "80 [2.22044605e-15 0.00000000e+00]\n",
      "81 [2.22044605e-15 0.00000000e+00]\n",
      "82 [0. 0.]\n",
      "83 [0. 0.]\n",
      "84 [0. 0.]\n",
      "85 [0. 0.]\n",
      "86 [0. 0.]\n",
      "87 [0. 0.]\n",
      "88 [0. 0.]\n",
      "89 [0. 0.]\n",
      "90 [0. 0.]\n",
      "91 [0. 0.]\n",
      "92 [0. 0.]\n",
      "93 [0. 0.]\n",
      "94 [0. 0.]\n",
      "95 [0. 0.]\n",
      "96 [0. 0.]\n",
      "97 [0. 0.]\n",
      "98 [0. 0.]\n",
      "99 [0. 0.]\n"
     ]
    }
   ],
   "source": [
    "results = []\n",
    "N = 100\n",
    "for i in range(1,N):\n",
    "    m = differential_evolution(lambda x: ackley(x), bounds=bounds, seed = 42, maxiter = i).x\n",
    "    print(i,m)\n",
    "    results.append((m))\n",
    "results = np.array(results)"
   ]
  },
  {
   "cell_type": "code",
   "execution_count": 253,
   "metadata": {},
   "outputs": [],
   "source": [
    "for r in results:\n",
    "    x = list(zip(*results))[0]\n",
    "    y = list(zip(*results))[1]"
   ]
  },
  {
   "cell_type": "code",
   "execution_count": 251,
   "metadata": {},
   "outputs": [
    {
     "data": {
      "text/plain": [
       "tuple"
      ]
     },
     "execution_count": 251,
     "metadata": {},
     "output_type": "execute_result"
    }
   ],
   "source": [
    "type(x)"
   ]
  },
  {
   "cell_type": "code",
   "execution_count": 228,
   "metadata": {},
   "outputs": [],
   "source": [
    "indices = []\n",
    "for i in range(len(results)):\n",
    "    indices.append(i)\n",
    "indices = tuple(indices)"
   ]
  },
  {
   "cell_type": "code",
   "execution_count": 229,
   "metadata": {},
   "outputs": [
    {
     "data": {
      "text/plain": [
       "tuple"
      ]
     },
     "execution_count": 229,
     "metadata": {},
     "output_type": "execute_result"
    }
   ],
   "source": [
    "type(indices)"
   ]
  },
  {
   "cell_type": "code",
   "execution_count": 233,
   "metadata": {
    "collapsed": true
   },
   "outputs": [],
   "source": [
    "z = indices"
   ]
  },
  {
   "cell_type": "code",
   "execution_count": 235,
   "metadata": {},
   "outputs": [
    {
     "data": {
      "image/png": "[encoded data removed]",
      "text/plain": [
       "<Figure size 432x288 with 1 Axes>"
      ]
     },
     "metadata": {
      "needs_background": "light"
     },
     "output_type": "display_data"
    }
   ],
   "source": [
    "%matplotlib inline\n",
    "from mpl_toolkits.mplot3d import Axes3D\n",
    "import matplotlib.pyplot as plt\n",
    "fig = plt.figure()\n",
    "ax = plt.axes(projection='3d')\n",
    "ax.plot(x, y, z, label='p')\n",
    "ax.legend()\n",
    "plt.show()"
   ]
  },
  {
   "cell_type": "code",
   "execution_count": null,
   "metadata": {
    "collapsed": true
   },
   "outputs": [],
   "source": [
    "# по допзаданию - можно ли использовать gridsearch? если нет, то как сделать перебор?"
   ]
  }
 ],
 "metadata": {
  "kernelspec": {
   "display_name": "Python (other-env)",
   "language": "python",
   "name": "other-env"
  },
  "language_info": {
   "codemirror_mode": {
    "name": "ipython",
    "version": 3
   },
   "file_extension": ".py",
   "mimetype": "text/x-python",
   "name": "python",
   "nbconvert_exporter": "python",
   "pygments_lexer": "ipython3",
   "version": "3.7.1"
  }
 },
 "nbformat": 4,
 "nbformat_minor": 2
}
